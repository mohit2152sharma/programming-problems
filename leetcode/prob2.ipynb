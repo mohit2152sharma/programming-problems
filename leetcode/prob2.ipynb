{
 "cells": [
  {
   "attachments": {},
   "cell_type": "markdown",
   "metadata": {},
   "source": [
    "# [Missing Number](https://leetcode.com/problems/missing-number/)"
   ]
  },
  {
   "attachments": {},
   "cell_type": "markdown",
   "metadata": {},
   "source": [
    "Given an array nums containing n distinct numbers in the range [0, n], return the only number in the range that is missing from the array.\n",
    "\n",
    " \n",
    "\n",
    "Example 1:\n",
    "```\n",
    "Input: nums = [3,0,1]\n",
    "Output: 2\n",
    "```\n",
    "Explanation: n = 3 since there are 3 numbers, so all numbers are in the range [0,3]. 2 is the missing number in the range since it does not appear in nums.\n",
    "Example 2:\n",
    "```\n",
    "Input: nums = [0,1]\n",
    "Output: 2\n",
    "```\n",
    "Explanation: n = 2 since there are 2 numbers, so all numbers are in the range [0,2]. 2 is the missing number in the range since it does not appear in nums.\n",
    "Example 3:\n",
    "```\n",
    "Input: nums = [9,6,4,2,3,5,7,0,1]\n",
    "Output: 8\n",
    "```\n",
    "Explanation: n = 9 since there are 9 numbers, so all numbers are in the range [0,9]. 8 is the missing number in the range since it does not appear in nums.\n",
    " \n",
    "\n",
    "Constraints:\n",
    "```\n",
    "n == nums.length\n",
    "1 <= n <= 104\n",
    "0 <= nums[i] <= n\n",
    "```\n",
    "All the numbers of nums are unique.\n",
    " \n",
    "\n",
    "Follow up: Could you implement a solution using only O(1) extra space complexity and O(n) runtime complexity?"
   ]
  },
  {
   "cell_type": "code",
   "execution_count": 7,
   "metadata": {},
   "outputs": [],
   "source": [
    "from typing import List\n",
    "\n",
    "# sol1: \n",
    "# this solution has O(2n) of space complexity as I am creating a new list\n",
    "class Solution:\n",
    "    def missingNumber(self, nums: List[int]) -> int:\n",
    "        set1 = set(nums)\n",
    "        set2 = set(range(0, len(nums)+1))\n",
    "        return list(set2 - set1)[0]\n",
    "\n",
    "class Solution2:\n",
    "    def missingNumber(self, nums: List[int]) -> int:\n",
    "        return sum(range(len(nums)+1)) - sum(nums)\n",
    "    \n",
    "class Solution3:\n",
    "    def missingNumbers(self, nums: List[int]) -> int:\n",
    "        for i in range(len(nums) + 1):\n",
    "            if i not in nums:\n",
    "                return i"
   ]
  },
  {
   "cell_type": "code",
   "execution_count": 3,
   "metadata": {},
   "outputs": [
    {
     "name": "stdout",
     "output_type": "stream",
     "text": [
      "Answer from solution 1: 2\n",
      "Answer from solution 2: 2\n",
      "Answer from solution 1: 2\n",
      "Answer from solution 2: 2\n",
      "Answer from solution 1: 8\n",
      "Answer from solution 2: 8\n"
     ]
    }
   ],
   "source": [
    "examples = [\n",
    "    [3,0,1],\n",
    "    [0,1],\n",
    "    [9,6,4,2,3,5,7,0,1]\n",
    "] \n",
    "\n",
    "sol = Solution()\n",
    "sol2 = Solution2()\n",
    "for ex in examples:\n",
    "    # print(sol.missingNumber(ex))\n",
    "    print(f'Answer from solution 1: {sol.missingNumber(ex)}\\nAnswer from solution 2: {sol2.missingNumber(ex)}')"
   ]
  },
  {
   "cell_type": "code",
   "execution_count": 9,
   "metadata": {},
   "outputs": [
    {
     "data": {
      "text/plain": [
       "0.19950604099994962"
      ]
     },
     "execution_count": 9,
     "metadata": {},
     "output_type": "execute_result"
    }
   ],
   "source": [
    "import timeit\n",
    "\n",
    "timeit.timeit(\n",
    "    lambda: sol2.missingNumber([2,1])\n",
    ")"
   ]
  },
  {
   "cell_type": "code",
   "execution_count": 10,
   "metadata": {},
   "outputs": [
    {
     "data": {
      "text/plain": [
       "0.1633732089999853"
      ]
     },
     "execution_count": 10,
     "metadata": {},
     "output_type": "execute_result"
    }
   ],
   "source": [
    "sol3 = Solution3()\n",
    "timeit.timeit(\n",
    "    lambda: sol3.missingNumbers([2,1])\n",
    ")"
   ]
  },
  {
   "cell_type": "code",
   "execution_count": 11,
   "metadata": {},
   "outputs": [
    {
     "data": {
      "text/plain": [
       "0.3252301250000187"
      ]
     },
     "execution_count": 11,
     "metadata": {},
     "output_type": "execute_result"
    }
   ],
   "source": [
    "timeit.timeit(\n",
    "    lambda: sol.missingNumber([2,1])\n",
    ")"
   ]
  },
  {
   "cell_type": "code",
   "execution_count": 13,
   "metadata": {},
   "outputs": [
    {
     "name": "stdout",
     "output_type": "stream",
     "text": [
      "Result from function: missingNumber:\n",
      "\tResult for input [3, 0, 1]: 2\n",
      "\tResult for input [0, 1]: 2\n",
      "\tResult for input [9, 6, 4, 2, 3, 5, 7, 0, 1]: 8\n",
      "*************end of section*************\n",
      "Result from function: missingNumbers:\n",
      "\tResult for input [3, 0, 1]: 2\n",
      "\tResult for input [0, 1]: 2\n",
      "\tResult for input [9, 6, 4, 2, 3, 5, 7, 0, 1]: 8\n",
      "*************end of section*************\n"
     ]
    }
   ],
   "source": [
    "from utils import print_answers\n",
    "\n",
    "print_answers(funcs=[sol.missingNumber, sol2.missingNumber, sol3.missingNumbers], examples=examples)"
   ]
  }
 ],
 "metadata": {
  "kernelspec": {
   "display_name": "probs",
   "language": "python",
   "name": "python3"
  },
  "language_info": {
   "codemirror_mode": {
    "name": "ipython",
    "version": 3
   },
   "file_extension": ".py",
   "mimetype": "text/x-python",
   "name": "python",
   "nbconvert_exporter": "python",
   "pygments_lexer": "ipython3",
   "version": "3.9.16"
  },
  "orig_nbformat": 4
 },
 "nbformat": 4,
 "nbformat_minor": 2
}
