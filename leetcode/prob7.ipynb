{
 "cells": [
  {
   "attachments": {},
   "cell_type": "markdown",
   "metadata": {},
   "source": [
    "Given an input of a list of strings [“cat”, “tac”, “act”, “dog”, “god”] find the list of anagrams and send it as a list of lists \n",
    "\n",
    "[[“cat”, “tac”, “act”],\n",
    "\n",
    "[“dog”, “god”]]"
   ]
  },
  {
   "cell_type": "code",
   "execution_count": 7,
   "metadata": {},
   "outputs": [],
   "source": [
    "def tmp(result, key):\n",
    "    s = ''.join(sorted(key))\n",
    "    if s in result:\n",
    "        result[s].append(key)\n",
    "    else:\n",
    "        result[s] = [key]\n",
    "    return result\n",
    "\n",
    "\n",
    "def unique(ls):\n",
    "\n",
    "    result = {}\n",
    "    for s in ls:\n",
    "        tmp(result, s)\n",
    "    return result"
   ]
  },
  {
   "cell_type": "code",
   "execution_count": 8,
   "metadata": {},
   "outputs": [
    {
     "name": "stdout",
     "output_type": "stream",
     "text": [
      "Result from function: unique:\n",
      "\tResult for input ['cat', 'tac', 'act', 'dog', 'god']: {'act': ['cat', 'tac', 'act'], 'dgo': ['dog', 'god']}\n",
      "************ end of section ************\n"
     ]
    }
   ],
   "source": [
    "from utils import print_answers \n",
    "\n",
    "examples = [\n",
    "    ['cat', 'tac', 'act', 'dog', 'god']\n",
    "]\n",
    "\n",
    "print_answers([unique], examples)"
   ]
  },
  {
   "attachments": {},
   "cell_type": "markdown",
   "metadata": {},
   "source": [
    "Time complexity:\n",
    "\n",
    "1. O(n) is at least as I am looping through all elements of list\n",
    "2. Then I am using sorting method on the words, so that is some complexity. Average and worst time complexity of sorted function is O(mlogm) where m is number of characters\n",
    "3. So total time complexity is: O(nmlogm)\n",
    "\n",
    "Space complexity:\n",
    "\n",
    "1. O(n) for storing the whole list\n",
    "2. O(n) again if each word turns out to be unique. What I mean by that is, suppose input is `['cat', 'dog']`, then the output is `{'act': ['cat'], 'dgo': ['dog']}`\n",
    "3. Total complexity is actually: O(2n)"
   ]
  },
  {
   "cell_type": "markdown",
   "metadata": {},
   "source": []
  }
 ],
 "metadata": {
  "kernelspec": {
   "display_name": "probs",
   "language": "python",
   "name": "python3"
  },
  "language_info": {
   "codemirror_mode": {
    "name": "ipython",
    "version": 3
   },
   "file_extension": ".py",
   "mimetype": "text/x-python",
   "name": "python",
   "nbconvert_exporter": "python",
   "pygments_lexer": "ipython3",
   "version": "3.9.16"
  },
  "orig_nbformat": 4
 },
 "nbformat": 4,
 "nbformat_minor": 2
}
