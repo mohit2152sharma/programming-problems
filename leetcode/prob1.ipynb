{
 "cells": [
  {
   "attachments": {},
   "cell_type": "markdown",
   "metadata": {},
   "source": [
    "# [Contains Dupilcate](https://leetcode.com/problems/contains-duplicate/)"
   ]
  },
  {
   "attachments": {},
   "cell_type": "markdown",
   "metadata": {},
   "source": [
    "Given an integer array nums, return true if any value appears at least twice in the array, and return false if every element is distinct.\n",
    "\n",
    "\n",
    "Example 1:\n",
    "```\n",
    "Input: nums = [1,2,3,1]\n",
    "Output: true\n",
    "```\n",
    "\n",
    "Example 2:\n",
    "```\n",
    "Input: nums = [1,2,3,4]\n",
    "Output: false\n",
    "```\n",
    "\n",
    "Example 3:\n",
    "```\n",
    "Input: nums = [1,1,1,3,3,4,3,2,4,2]\n",
    "Output: true\n",
    "```"
   ]
  },
  {
   "cell_type": "code",
   "execution_count": 6,
   "metadata": {},
   "outputs": [],
   "source": [
    "# solution 1\n",
    "\n",
    "# time complexity: O(n) because I am iterating through each element of the list to get it's count\n",
    "# worst case scenario is when all are unique elements\n",
    "# best case scenario when all are duplicates\n",
    "# also I don't know the time complexity of Counter. I think that's also O(n)\n",
    "\n",
    "from collections import Counter\n",
    "from typing import List\n",
    "\n",
    "def contains_duplicate(array: List[int]) -> bool:\n",
    "\n",
    "    counts = Counter(array)\n",
    "\n",
    "    for key, count in counts.items():\n",
    "        if count >= 2:\n",
    "            return True \n",
    "        \n",
    "    return False\n",
    "\n",
    "# solution 2\n",
    "\n",
    "# if all elements are distinct then len(set(array)) = len(array)\n",
    "# otherwise there are duplicates\n",
    "\n",
    "class Solution:\n",
    "    def containsDuplicate(self, nums: List[int]) -> bool:\n",
    "        if len(set(nums)) < len(nums):\n",
    "            return True\n",
    "        else:\n",
    "            return False"
   ]
  },
  {
   "cell_type": "code",
   "execution_count": 7,
   "metadata": {},
   "outputs": [
    {
     "name": "stdout",
     "output_type": "stream",
     "text": [
      "Answer from solution 1: True \n",
      "Answer from solution 2: True\n",
      "Answer from solution 1: False \n",
      "Answer from solution 2: False\n",
      "Answer from solution 1: False \n",
      "Answer from solution 2: False\n",
      "Answer from solution 1: True \n",
      "Answer from solution 2: True\n"
     ]
    }
   ],
   "source": [
    "examples = [\n",
    "    [1,1,2,3,4],\n",
    "    [1,2,3,4],\n",
    "    [1,3,4],\n",
    "    [1,2,2,2,2]\n",
    "]\n",
    "\n",
    "sol = Solution()\n",
    "for example in examples:\n",
    "    sol1 = contains_duplicate(example)\n",
    "\n",
    "    sol2 = sol.containsDuplicate(example)\n",
    "\n",
    "    print(f'Answer from solution 1: {sol1} \\nAnswer from solution 2: {sol2}')\n"
   ]
  }
 ],
 "metadata": {
  "kernelspec": {
   "display_name": "probs",
   "language": "python",
   "name": "python3"
  },
  "language_info": {
   "codemirror_mode": {
    "name": "ipython",
    "version": 3
   },
   "file_extension": ".py",
   "mimetype": "text/x-python",
   "name": "python",
   "nbconvert_exporter": "python",
   "pygments_lexer": "ipython3",
   "version": "3.9.16"
  },
  "orig_nbformat": 4
 },
 "nbformat": 4,
 "nbformat_minor": 2
}
