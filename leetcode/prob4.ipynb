{
 "cells": [
  {
   "attachments": {},
   "cell_type": "markdown",
   "metadata": {},
   "source": [
    "# [Single Number](https://leetcode.com/problems/single-number/)"
   ]
  },
  {
   "attachments": {},
   "cell_type": "markdown",
   "metadata": {},
   "source": [
    "Given a non-empty array of integers nums, every element appears twice except for one. Find that single one.\n",
    "\n",
    "You must implement a solution with a linear runtime complexity and use only constant extra space.\n",
    "\n",
    " \n",
    "\n",
    "Example 1:\n",
    "```\n",
    "Input: nums = [2,2,1]\n",
    "Output: 1\n",
    "```\n",
    "Example 2:\n",
    "```\n",
    "Input: nums = [4,1,2,1,2]\n",
    "Output: 4\n",
    "```\n",
    "Example 3:\n",
    "```\n",
    "Input: nums = [1]\n",
    "Output: 1\n",
    "``` \n",
    "\n",
    "Constraints:\n",
    "```\n",
    "1 <= nums.length <= 3 * 104\n",
    "-3 * 104 <= nums[i] <= 3 * 104\n",
    "```\n",
    "Each element in the array appears twice except for one element which appears only once."
   ]
  },
  {
   "cell_type": "code",
   "execution_count": 50,
   "metadata": {},
   "outputs": [],
   "source": [
    "from collections import Counter\n",
    "\n",
    "def missing(nums):\n",
    "    counts = Counter(nums)\n",
    "    for k, v in counts.items():\n",
    "        if v == 1:\n",
    "            return k\n",
    "        \n",
    "def missing2(nums):\n",
    "    s = set(nums)\n",
    "    for i in s:\n",
    "        nums.remove(i)\n",
    "\n",
    "    result = list(s - set(nums))[0]\n",
    "    return result"
   ]
  },
  {
   "cell_type": "code",
   "execution_count": 51,
   "metadata": {},
   "outputs": [
    {
     "name": "stdout",
     "output_type": "stream",
     "text": [
      "Result from function: missing:\n",
      "\tResult for input []: 1\n",
      "\tResult for input [1]: 4\n",
      "\tResult for input []: 1\n",
      "\tResult for input []: 0\n",
      "************ end of section ************\n",
      "Result from function: missing2:\n",
      "\tResult for input []: 1\n",
      "\tResult for input [1]: 4\n",
      "\tResult for input []: 1\n",
      "\tResult for input []: 0\n",
      "************ end of section ************\n",
      "Result from function: missing3:\n",
      "\tResult for input []: 2\n",
      "\tResult for input [1]: 2\n",
      "\tResult for input []: 2\n",
      "\tResult for input []: 1\n",
      "************ end of section ************\n"
     ]
    }
   ],
   "source": [
    "examples = [\n",
    "    [2,2,1],\n",
    "    [4,1,2,1,2],\n",
    "    [1,2,2],\n",
    "    [1,0,1]\n",
    "]\n",
    "\n",
    "from utils import print_answers\n",
    "print_answers(funcs=[missing, missing2, missing3], examples=examples)"
   ]
  }
 ],
 "metadata": {
  "kernelspec": {
   "display_name": "probs",
   "language": "python",
   "name": "python3"
  },
  "language_info": {
   "codemirror_mode": {
    "name": "ipython",
    "version": 3
   },
   "file_extension": ".py",
   "mimetype": "text/x-python",
   "name": "python",
   "nbconvert_exporter": "python",
   "pygments_lexer": "ipython3",
   "version": "3.9.16"
  },
  "orig_nbformat": 4
 },
 "nbformat": 4,
 "nbformat_minor": 2
}
