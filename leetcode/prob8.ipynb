{
 "cells": [
  {
   "attachments": {},
   "cell_type": "markdown",
   "metadata": {},
   "source": [
    "Given an array [1,0,-1,0,0,1, -1, 1,0, 1], containing only 0’s and 1’s , without using the sort() method get the array in this format [-1, -1, 0, 0, 0, 0, 1,1,1,1], \n",
    "\n",
    "Follow up - Do it in a single pass without extra space so O(1) space and O(n) time."
   ]
  },
  {
   "cell_type": "code",
   "execution_count": 6,
   "metadata": {},
   "outputs": [],
   "source": [
    "def sorting(array): \n",
    "    neg, zero, one = [], [], []\n",
    "    for ar in array:\n",
    "        if ar == 0:\n",
    "            zero.append(ar)\n",
    "        elif ar == 1:\n",
    "            one.append(ar)\n",
    "        else:\n",
    "            neg.append(ar)\n",
    "    \n",
    "    result = neg + zero + one\n",
    "    return result"
   ]
  },
  {
   "cell_type": "code",
   "execution_count": 12,
   "metadata": {},
   "outputs": [],
   "source": [
    "# [1,0,-1,0,0,1,-1,1,0,1]\n",
    "\n",
    "def sorting2(array):\n",
    "    first = 0\n",
    "    mid = 0\n",
    "    last = len(array) - 1\n",
    "\n",
    "    while mid <= last:\n",
    "        if array[mid] < 0:\n",
    "            array[first], array[mid] = array[mid], array[first]\n",
    "            first += 1\n",
    "            mid += 1\n",
    "        elif array[mid] > 0:\n",
    "            array[last], array[mid] =  array[mid], array[last]\n",
    "            last -= 1\n",
    "        else:\n",
    "            mid += 1\n",
    "    \n",
    "    return array "
   ]
  },
  {
   "cell_type": "code",
   "execution_count": 13,
   "metadata": {},
   "outputs": [
    {
     "name": "stdout",
     "output_type": "stream",
     "text": [
      "Result from function: sorting:\n",
      "\tResult for input [-1, -1, 0, 0, 0, 0, 1, 1, 1, 1]: [-1, -1, 0, 0, 0, 0, 1, 1, 1, 1]\n",
      "************ end of section ************\n",
      "Result from function: sorting2:\n",
      "\tResult for input [-1, -1, 0, 0, 0, 0, 1, 1, 1, 1]: [-1, -1, 0, 0, 0, 0, 1, 1, 1, 1]\n",
      "************ end of section ************\n"
     ]
    }
   ],
   "source": [
    "from utils import print_answers\n",
    "\n",
    "examples = [\n",
    "    [1,0,-1,0,0,1,-1,1,0,1]\n",
    "]\n",
    "\n",
    "print_answers([sorting, sorting2], examples)"
   ]
  }
 ],
 "metadata": {
  "kernelspec": {
   "display_name": "probs",
   "language": "python",
   "name": "python3"
  },
  "language_info": {
   "codemirror_mode": {
    "name": "ipython",
    "version": 3
   },
   "file_extension": ".py",
   "mimetype": "text/x-python",
   "name": "python",
   "nbconvert_exporter": "python",
   "pygments_lexer": "ipython3",
   "version": "3.9.16"
  },
  "orig_nbformat": 4
 },
 "nbformat": 4,
 "nbformat_minor": 2
}
