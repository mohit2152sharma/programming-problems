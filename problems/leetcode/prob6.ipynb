{
 "cells": [
  {
   "attachments": {},
   "cell_type": "markdown",
   "metadata": {},
   "source": [
    "# [Best time to buy and sell stocks](https://leetcode.com/problems/best-time-to-buy-and-sell-stock/)"
   ]
  },
  {
   "cell_type": "code",
   "execution_count": 36,
   "metadata": {},
   "outputs": [],
   "source": [
    "from itertools import accumulate\n",
    "\n",
    "def maxp1(prices):\n",
    "    return max(j-k for j,k in zip(prices, accumulate(prices, min)))\n",
    "\n",
    "def maxp2(prices):\n",
    "    l = 0\n",
    "    r = 1\n",
    "    max_p = 0\n",
    "    while r < len(prices):\n",
    "        profit = prices[r] - prices[l]\n",
    "\n",
    "        if prices[l] < prices[r]:\n",
    "            max_p = max(profit, max_p)\n",
    "        else:\n",
    "            l = r\n",
    "        r += 1\n",
    "    return max_p"
   ]
  },
  {
   "cell_type": "code",
   "execution_count": 37,
   "metadata": {},
   "outputs": [
    {
     "name": "stdout",
     "output_type": "stream",
     "text": [
      "Result from function: maxp1:\n",
      "\tResult for input [7, 6, 4, 3, 1]: 0\n",
      "\tResult for input [7, 1, 5, 3, 6, 4]: 5\n",
      "\tResult for input [1, 2, 3, 4, 5, 6]: 5\n",
      "\tResult for input [1]: 0\n",
      "************ end of section ************\n",
      "Result from function: maxp2:\n",
      "\tResult for input [7, 6, 4, 3, 1]: 0\n",
      "\tResult for input [7, 1, 5, 3, 6, 4]: 5\n",
      "\tResult for input [1, 2, 3, 4, 5, 6]: 5\n",
      "\tResult for input [1]: 0\n",
      "************ end of section ************\n"
     ]
    }
   ],
   "source": [
    "examples = [\n",
    "    [7,6,4,3,1],\n",
    "    [7,1,5,3,6,4],\n",
    "    [1,2,3,4,5,6],\n",
    "    [1]\n",
    "]\n",
    "\n",
    "from utils import print_answers\n",
    "print_answers([maxp1, maxp2], examples)"
   ]
  }
 ],
 "metadata": {
  "kernelspec": {
   "display_name": "probs",
   "language": "python",
   "name": "python3"
  },
  "language_info": {
   "codemirror_mode": {
    "name": "ipython",
    "version": 3
   },
   "file_extension": ".py",
   "mimetype": "text/x-python",
   "name": "python",
   "nbconvert_exporter": "python",
   "pygments_lexer": "ipython3",
   "version": "3.9.16"
  },
  "orig_nbformat": 4
 },
 "nbformat": 4,
 "nbformat_minor": 2
}
