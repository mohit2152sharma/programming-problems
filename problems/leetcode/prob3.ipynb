{
 "cells": [
  {
   "attachments": {},
   "cell_type": "markdown",
   "metadata": {},
   "source": [
    "# [Find All Numbers Disappeared in an Array](https://leetcode.com/problems/find-all-numbers-disappeared-in-an-array/)"
   ]
  },
  {
   "attachments": {},
   "cell_type": "markdown",
   "metadata": {},
   "source": [
    "Given an array nums of n integers where nums[i] is in the range [1, n], return an array of all the integers in the range [1, n] that do not appear in nums.\n",
    "\n",
    " \n",
    "\n",
    "Example 1:\n",
    "```\n",
    "Input: nums = [4,3,2,7,8,2,3,1]\n",
    "Output: [5,6]\n",
    "```\n",
    "Example 2:\n",
    "```\n",
    "Input: nums = [1,1]\n",
    "Output: [2]\n",
    "``` \n",
    "\n",
    "Constraints:\n",
    "```\n",
    "n == nums.length\n",
    "1 <= n <= 105\n",
    "1 <= nums[i] <= n\n",
    "``` \n",
    "\n",
    "Follow up: Could you do it without extra space and in O(n) runtime? You may assume the returned list does not count as extra space."
   ]
  },
  {
   "cell_type": "code",
   "execution_count": 7,
   "metadata": {},
   "outputs": [],
   "source": [
    "from typing import List\n",
    "\n",
    "def missing1(nums: List[int]) -> List[int]:\n",
    "    result = []\n",
    "    for i in range(1, len(nums)+1):\n",
    "        if i not in nums:\n",
    "            result.append(i)\n",
    "    return result\n",
    "\n",
    "# sets solution is actually faster than looping through each element\n",
    "def missing2(nums: List[int]) -> List[int]:\n",
    "    set1 = set(nums)\n",
    "    set2 = set(range(1, len(nums)+1))\n",
    "    return list(set2 - set1)"
   ]
  },
  {
   "cell_type": "code",
   "execution_count": 12,
   "metadata": {},
   "outputs": [],
   "source": [
    "examples = [\n",
    "    [4,3,2,7,8,2,3,1],\n",
    "    [1,1],\n",
    "]"
   ]
  },
  {
   "cell_type": "code",
   "execution_count": 13,
   "metadata": {},
   "outputs": [
    {
     "name": "stdout",
     "output_type": "stream",
     "text": [
      "Result from function: missing1:\n",
      "\tResult for input [4, 3, 2, 7, 8, 2, 3, 1]: [5, 6]. Average time taken: 0.405197625000028\n",
      "\tResult for input [1, 1]: [2]. Average time taken: 0.18734212499998648\n",
      "************ end of section ************\n",
      "Result from function: missing2:\n",
      "\tResult for input [4, 3, 2, 7, 8, 2, 3, 1]: [5, 6]. Average time taken: 0.39673854199986636\n",
      "\tResult for input [1, 1]: [2]. Average time taken: 0.29214600000000246\n",
      "************ end of section ************\n"
     ]
    }
   ],
   "source": [
    "from utils import print_answers\n",
    "\n",
    "print_answers(funcs=[missing1, missing2], examples=examples)"
   ]
  }
 ],
 "metadata": {
  "kernelspec": {
   "display_name": "probs",
   "language": "python",
   "name": "python3"
  },
  "language_info": {
   "codemirror_mode": {
    "name": "ipython",
    "version": 3
   },
   "file_extension": ".py",
   "mimetype": "text/x-python",
   "name": "python",
   "nbconvert_exporter": "python",
   "pygments_lexer": "ipython3",
   "version": "3.9.16"
  },
  "orig_nbformat": 4
 },
 "nbformat": 4,
 "nbformat_minor": 2
}
